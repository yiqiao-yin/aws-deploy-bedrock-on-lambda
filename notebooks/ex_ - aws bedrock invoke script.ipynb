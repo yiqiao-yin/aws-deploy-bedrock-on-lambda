{
  "cells": [
    {
      "cell_type": "code",
      "execution_count": 5,
      "metadata": {
        "colab": {
          "base_uri": "https://localhost:8080/"
        },
        "id": "3Ooxq_oQzIKR",
        "outputId": "41f258cf-9283-4596-a5a2-6a18af417fb7"
      },
      "outputs": [
        {
          "name": "stdout",
          "output_type": "stream",
          "text": [
            "\n",
            "Extracted Output Text:\n",
            "\n",
            "\n",
            "The answer is 3.\n"
          ]
        }
      ],
      "source": [
        "import requests\n",
        "import json\n",
        "\n",
        "# API Gateway Invoke URL\n",
        "API_URL = \"https://f0j29zsaai.execute-api.us-east-1.amazonaws.com/dev/test_bedrock_v2\"\n",
        "\n",
        "# Define the payload\n",
        "payload = {\n",
        "    \"prompt\": \"What is 1+2?\",\n",
        "    \"maxTokenCount\": 10,\n",
        "    \"temperature\": 0.5,\n",
        "    \"topP\": 0.8\n",
        "}\n",
        "\n",
        "# Headers (API Gateway may require these)\n",
        "headers = {\n",
        "    \"Content-Type\": \"application/json\"\n",
        "}\n",
        "\n",
        "# Send POST request\n",
        "try:\n",
        "    response = requests.post(API_URL, headers=headers, data=json.dumps(payload))\n",
        "\n",
        "    # Check if the response was successful\n",
        "    if response.status_code == 200:\n",
        "        # Parse the full response\n",
        "        full_response = response.json()\n",
        "\n",
        "        # Save full response to a file\n",
        "        with open(\"full_response.json\", \"w\") as f:\n",
        "            json.dump(full_response, f, indent=2)\n",
        "\n",
        "        # Extract the output text from model response\n",
        "        output_text = full_response.get(\"model_response\", {}).get(\"results\", [{}])[0].get(\"outputText\", \"No output text found.\")\n",
        "\n",
        "        # Print only the output text\n",
        "        print(\"\\nExtracted Output Text:\\n\")\n",
        "        print(output_text)\n",
        "\n",
        "    else:\n",
        "        print(f\"Error: Received status code {response.status_code}\")\n",
        "        print(response.text)\n",
        "\n",
        "except requests.exceptions.RequestException as e:\n",
        "    print(f\"Request failed: {e}\")\n"
      ]
    },
    {
      "cell_type": "code",
      "execution_count": null,
      "metadata": {
        "id": "wDBhu_GJzIsu"
      },
      "outputs": [],
      "source": []
    }
  ],
  "metadata": {
    "colab": {
      "provenance": []
    },
    "kernelspec": {
      "display_name": "Python 3",
      "name": "python3"
    },
    "language_info": {
      "name": "python"
    }
  },
  "nbformat": 4,
  "nbformat_minor": 0
}
